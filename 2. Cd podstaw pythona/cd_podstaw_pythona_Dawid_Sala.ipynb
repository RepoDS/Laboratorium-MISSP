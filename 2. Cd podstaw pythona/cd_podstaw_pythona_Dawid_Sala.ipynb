{
  "nbformat": 4,
  "nbformat_minor": 0,
  "metadata": {
    "kernelspec": {
      "display_name": "Python 3",
      "language": "python",
      "name": "python3"
    },
    "language_info": {
      "codemirror_mode": {
        "name": "ipython",
        "version": 3
      },
      "file_extension": ".py",
      "mimetype": "text/x-python",
      "name": "python",
      "nbconvert_exporter": "python",
      "pygments_lexer": "ipython3",
      "version": "3.7.3"
    },
    "colab": {
      "name": "cd_podstaw_pythona_Dawid_Sala.ipynb",
      "provenance": [],
      "collapsed_sections": []
    }
  },
  "cells": [
    {
      "cell_type": "markdown",
      "metadata": {
        "id": "PiCjVH7P7FY2"
      },
      "source": [
        "# **Drugie zajęcia MISSP**"
      ]
    },
    {
      "cell_type": "code",
      "metadata": {
        "id": "J9cyqDQQmpDD"
      },
      "source": [
        "import numpy as np"
      ],
      "execution_count": null,
      "outputs": []
    },
    {
      "cell_type": "code",
      "metadata": {
        "id": "rv_UQUEXmpDK"
      },
      "source": [
        "a_list= [1,2,3,4,5, [1,2,3], \"temat\"] # nie idealna lista\n",
        "k_krotka = (1,2,3,4,5, [1,2,3], \"temat\")\n",
        "b_list = [1,2,3,4,5]\n",
        "n_array = np.array(b_list) # wektor numpy\n"
      ],
      "execution_count": null,
      "outputs": []
    },
    {
      "cell_type": "code",
      "metadata": {
        "id": "lDxo3XqPmpDP"
      },
      "source": [
        "a_list+b_list\n",
        "n_array+n_array"
      ],
      "execution_count": null,
      "outputs": []
    },
    {
      "cell_type": "code",
      "metadata": {
        "id": "08OSGLTSmpDT"
      },
      "source": [
        "a_list[3]"
      ],
      "execution_count": null,
      "outputs": []
    },
    {
      "cell_type": "code",
      "metadata": {
        "id": "VYCxtBeYmpDW"
      },
      "source": [
        "a_list.append(100)\n",
        "print(a_list)"
      ],
      "execution_count": null,
      "outputs": []
    },
    {
      "cell_type": "code",
      "metadata": {
        "id": "eq70CMo6mpDY"
      },
      "source": [
        "k_krotka[4]"
      ],
      "execution_count": null,
      "outputs": []
    },
    {
      "cell_type": "code",
      "metadata": {
        "id": "p6jTEcNZmpDb"
      },
      "source": [
        "k_krotka.append(100)"
      ],
      "execution_count": null,
      "outputs": []
    },
    {
      "cell_type": "code",
      "metadata": {
        "id": "kYABUfwsmpDe"
      },
      "source": [
        "np.array(b_list)+np.array(b_list)"
      ],
      "execution_count": null,
      "outputs": []
    },
    {
      "cell_type": "code",
      "metadata": {
        "id": "_dXmHLKHmpDi"
      },
      "source": [
        "n_array = np.array(a_list) # wektor numpy"
      ],
      "execution_count": null,
      "outputs": []
    },
    {
      "cell_type": "code",
      "metadata": {
        "id": "g-q7K3MumpDl"
      },
      "source": [
        "n_array"
      ],
      "execution_count": null,
      "outputs": []
    },
    {
      "cell_type": "code",
      "metadata": {
        "id": "AJINFuOTmpDo"
      },
      "source": [
        "#### Nowosci\n",
        "\n",
        "studenci_slownik = {123: 123,\"Igor\":3, \"Frankek\":5, \"Zosia\":22,\"Julia\":[2,21], (1,2):\"Krotka\"}"
      ],
      "execution_count": null,
      "outputs": []
    },
    {
      "cell_type": "code",
      "metadata": {
        "id": "Zsxy9faHmpDq"
      },
      "source": [
        "print(studenci_slownik)"
      ],
      "execution_count": null,
      "outputs": []
    },
    {
      "cell_type": "code",
      "metadata": {
        "id": "NFpACb06mpDs"
      },
      "source": [
        "studenci_slownik[\"Zosia\"]"
      ],
      "execution_count": null,
      "outputs": []
    },
    {
      "cell_type": "code",
      "metadata": {
        "id": "3gYln6mbmpDv"
      },
      "source": [
        "for elementy in studenci_slownik:\n",
        "    print(elementy)\n",
        "\n",
        "print(\"*\"*20)\n",
        "for elementy in studenci_slownik.keys():\n",
        "    print(elementy)"
      ],
      "execution_count": null,
      "outputs": []
    },
    {
      "cell_type": "code",
      "metadata": {
        "id": "91MQY8GUmpDy"
      },
      "source": [
        "for elementy in studenci_slownik.items():\n",
        "    print(elementy)"
      ],
      "execution_count": null,
      "outputs": []
    },
    {
      "cell_type": "code",
      "metadata": {
        "id": "kHuIT2qtmpD0"
      },
      "source": [
        "for elementy in studenci_slownik.values():\n",
        "    print(elementy)"
      ],
      "execution_count": null,
      "outputs": []
    },
    {
      "cell_type": "code",
      "metadata": {
        "id": "iELegg-XmpD2"
      },
      "source": [
        "studenci_slownik[\"Cuthulu\"]= -1000000"
      ],
      "execution_count": null,
      "outputs": []
    },
    {
      "cell_type": "code",
      "metadata": {
        "id": "AWOVDx4PmpD5"
      },
      "source": [
        "studenci_slownik"
      ],
      "execution_count": null,
      "outputs": []
    },
    {
      "cell_type": "code",
      "metadata": {
        "id": "FSrJc3FtmpD8"
      },
      "source": [
        "automatyczna_lista=[liczba**2 for liczba in range(100) if liczba%4==0]\n",
        "print(automatyczna_lista)"
      ],
      "execution_count": null,
      "outputs": []
    },
    {
      "cell_type": "code",
      "metadata": {
        "id": "sg0rgzhPmpD-"
      },
      "source": [
        "studenci = studenci_slownik.keys()\n",
        "automatyczny_slownik=dict(para for para in enumerate(studenci))\n",
        "print(automatyczny_slownik)"
      ],
      "execution_count": null,
      "outputs": []
    },
    {
      "cell_type": "code",
      "metadata": {
        "id": "ytdLtP6NmpEA"
      },
      "source": [
        "##### zbiory\n",
        "\n",
        "a={1,2,3,\"Franek\"}\n",
        "b={2,3,4,\"Franek\"}\n"
      ],
      "execution_count": null,
      "outputs": []
    },
    {
      "cell_type": "code",
      "metadata": {
        "id": "kfwcdcfVmpED"
      },
      "source": [
        "a|b #suma zbiorów, sum of sets"
      ],
      "execution_count": null,
      "outputs": []
    },
    {
      "cell_type": "code",
      "metadata": {
        "id": "CAboPiCsmpEG"
      },
      "source": [
        "a.add(\"Franek\")\n",
        "print(a)"
      ],
      "execution_count": null,
      "outputs": []
    },
    {
      "cell_type": "code",
      "metadata": {
        "id": "l9GAX-v1mpEI"
      },
      "source": [
        "1 in a\n",
        "\"Igor\" in studenci_slownik"
      ],
      "execution_count": null,
      "outputs": []
    },
    {
      "cell_type": "markdown",
      "metadata": {
        "id": "0OuxRqZ9mpEK"
      },
      "source": [
        "### Własne typy"
      ]
    },
    {
      "cell_type": "code",
      "metadata": {
        "id": "kWhVhs3vmpEL"
      },
      "source": [
        "zajecia = [[\"wf\"],\n",
        "           [\"informatyka\", \"nauka czytania\"],\n",
        "           [\"relax\", \"jedzenie\"],\n",
        "           [\"mispy\",\"mispy w domu\"],\n",
        "           [\"piateczek\", \"praca domowa z mispow\", \"Ilovemispy\", \"mispy w czasie snu\"]\n",
        "          ]\n",
        "\n",
        "dnityg= [\"Pon\",\"Wto\",\"Sro\",\"Czwar\",\"Pio\"]\n",
        "\n",
        "def dodaj_dwie_liczby(liczba1,liczba2):\n",
        "    return liczba1+liczba2"
      ],
      "execution_count": null,
      "outputs": []
    },
    {
      "cell_type": "code",
      "metadata": {
        "id": "Ze_dcVqDmpEN"
      },
      "source": [
        "class DzienZajec():\n",
        "    \"\"\"obiekt trzymający dany dzień zajęć i przypisane mu metody\"\"\"\n",
        "    \n",
        "    \n",
        "    def __init__(self, lista_na_dany_dzien, nazwa_dnia): #definicja\n",
        "        self.lista_zajec= lista_na_dany_dzien\n",
        "        self.dzien = nazwa_dnia\n",
        "        \n",
        "\n",
        "    \n",
        "    def ile_mispow(self):\n",
        "        ile_m = sum([1 for zajecie in self.lista_zajec if \"misp\" in zajecie.lower()])\n",
        "        return ile_m\n",
        "\n",
        "    @property #zamienia na wlasciwosc   \n",
        "    def ile_zajec(self):\n",
        "        return len(self.lista_zajec)\n",
        "    \n",
        "    def __repr__(self):\n",
        "        zajecia_do_stringa = \", \".join(self.lista_zajec)\n",
        "        return \"W dzien {} mam zajecia: {}\".format(self.dzien, zajecia_do_stringa)\n",
        "    "
      ],
      "execution_count": null,
      "outputs": []
    },
    {
      "cell_type": "code",
      "metadata": {
        "id": "Uovdt7-PmpEQ"
      },
      "source": [
        "pio_zajecia = DzienZajec([\"piateczek\", \"praca domowa z mispow\", \"Ilovemispy\", \"mispy w czasie snu\"],\n",
        "                        \"piatek\")"
      ],
      "execution_count": null,
      "outputs": []
    },
    {
      "cell_type": "code",
      "metadata": {
        "id": "nmnUertZmpET"
      },
      "source": [
        "pio_zajecia.ile_zajec"
      ],
      "execution_count": null,
      "outputs": []
    },
    {
      "cell_type": "code",
      "metadata": {
        "id": "DRCVzbGrmpEV"
      },
      "source": [
        "print(pio_zajecia)"
      ],
      "execution_count": null,
      "outputs": []
    },
    {
      "cell_type": "code",
      "metadata": {
        "id": "eL0nB4onmpEX"
      },
      "source": [
        "pio_zajecia.lista_zajec"
      ],
      "execution_count": null,
      "outputs": []
    },
    {
      "cell_type": "code",
      "metadata": {
        "id": "2sdoz3-JmpEZ"
      },
      "source": [
        "pio_zajecia.lista_zajec.append(\"MISP\")\n",
        "print(pio_zajecia.lista_zajec)"
      ],
      "execution_count": null,
      "outputs": []
    },
    {
      "cell_type": "code",
      "metadata": {
        "id": "oESr3ApqmpEb"
      },
      "source": [
        "pio_zajecia.ile_mispow()"
      ],
      "execution_count": null,
      "outputs": []
    },
    {
      "cell_type": "code",
      "metadata": {
        "id": "rLX6cOVbmpEd"
      },
      "source": [
        "print(pio_zajecia.lista_zajec)\n"
      ],
      "execution_count": null,
      "outputs": []
    },
    {
      "cell_type": "code",
      "metadata": {
        "id": "-kc0fHCqmpEg"
      },
      "source": [
        "pio_zajecia"
      ],
      "execution_count": null,
      "outputs": []
    },
    {
      "cell_type": "code",
      "metadata": {
        "id": "TjcDptTampEj"
      },
      "source": [
        "print(pio_zajecia.ile_zajec)"
      ],
      "execution_count": null,
      "outputs": []
    },
    {
      "cell_type": "code",
      "metadata": {
        "id": "zvyNlfaHmpEm"
      },
      "source": [
        "lista_zajec= [DzienZajec(lista_dzien, dzien) for lista_dzien, dzien in \n",
        "             zip(zajecia,dnityg)]"
      ],
      "execution_count": null,
      "outputs": []
    },
    {
      "cell_type": "code",
      "metadata": {
        "id": "gEO5IbXzmpEo"
      },
      "source": [
        "print(lista_zajec)"
      ],
      "execution_count": null,
      "outputs": []
    },
    {
      "cell_type": "code",
      "metadata": {
        "id": "oBi4o2h7mpEq"
      },
      "source": [
        "posortowane_po_zajeciach=sorted(lista_zajec, key= lambda zajecie: zajecie.ile_zajec)\n",
        "posortowane_po_mispach=sorted(lista_zajec, key= lambda zajecie: zajecie.ile_mispow())"
      ],
      "execution_count": null,
      "outputs": []
    },
    {
      "cell_type": "code",
      "metadata": {
        "id": "VHwFNCsempEs"
      },
      "source": [
        "print(posortowane_po_zajeciach)"
      ],
      "execution_count": null,
      "outputs": []
    },
    {
      "cell_type": "code",
      "metadata": {
        "id": "2NRCv5E4mpEu"
      },
      "source": [
        "print(posortowane_po_mispach)"
      ],
      "execution_count": null,
      "outputs": []
    },
    {
      "cell_type": "markdown",
      "metadata": {
        "id": "AXeUhW7TmpEw"
      },
      "source": [
        "## **Challenge 1**\n",
        "\n",
        "Stworz typ NumerTelefonu\n",
        "\n",
        " -- przy tworzeniu sprawdza czy właściwy numer (Polski) jeśli nie pisze, że error (ew. Exception)\n",
        " \n",
        " -- gdy printuję to mi pisze polskimi słowami i.e. \"jeden, pięć, siedem, zero\"\n",
        " \n",
        " -- gdy wywołuję właściwość wojewodzwtwo, podaje mi wojewodztwo ew. ze to komorkowy\n",
        " \n",
        " "
      ]
    },
    {
      "cell_type": "code",
      "metadata": {
        "id": "tzXm1LNq0JTH",
        "colab": {
          "base_uri": "https://localhost:8080/",
          "height": 571
        },
        "outputId": "7d97fa1d-f494-4516-b6c9-c1a535984bfd"
      },
      "source": [
        "class NumerTelefonu():\n",
        "    \"\"\"obekt numeru\"\"\"\n",
        "    \n",
        "    kierunkowy = {\n",
        "                    12:\"Małopolskie\",\n",
        "                    13:\"Podkarpackie\",\n",
        "                    14:\"Małopolskie\",\n",
        "                    15:\"Podkarpackie\",\n",
        "                    16:\"Podkarpackie\",\n",
        "                    17:\"Podkarpackie\",\n",
        "                    18:\"Małopolskie\",\n",
        "                    22:\"Mazowieckie\",\n",
        "                    23:\"Mazowieckie\",\n",
        "                    24:\"Mazowieckie\",\n",
        "                    25:\"Mazowieckie\",\n",
        "                    29:\"Mazowieckie\",\n",
        "                    32:\"Śląskie\",\n",
        "                    33:\"Śląskie\",\n",
        "                    34:\"Śląskie\",\n",
        "                    41:\"Świętokrzyskie\",\n",
        "                    42:\"Łódzkie\",\n",
        "                    43:\"Łódzkie\",\n",
        "                    44:\"Łódzkie\",\n",
        "                    46:\"Łódzkie\",\n",
        "                    48:\"Mazowieckie\",\n",
        "                    52:\"Kujawsko-pomorskie\",\n",
        "                    54:\"Kujawsko-pomorskie\",\n",
        "                    55:\"Warmińsko-mazurskie\",\n",
        "                    56:\"Kujawsko-pomorskie\",\n",
        "                    58:\"Pomorskie\",\n",
        "                    59:\"Pomorskie\",\n",
        "                    61:\"Wielkopolskie\",\n",
        "                    62:\"Wielkopolskie\",\n",
        "                    63:\"Wielkopolskie\",\n",
        "                    65:\"Wielkopolskie\",\n",
        "                    67:\"Wielkopolskie\",\n",
        "                    68:\"Lubuskie\",\n",
        "                    71:\"Dolnośląskie\",\n",
        "                    74:\"Dolnośląskie\",\n",
        "                    75:\"Dolnośląskie\",\n",
        "                    76:\"Dolnośląskie\",\n",
        "                    77:\"Opolskie\",\n",
        "                    81:\"Lubelskie\",\n",
        "                    82:\"Lubelskie\", \n",
        "                    83:\"Lubelskie\",\n",
        "                    84:\"Lubelskie\",\n",
        "                    85:\"Podlaskie\",\n",
        "                    86:\"Podlaskie\",\n",
        "                    87:\"Podlaskie\",\n",
        "                    89:\"Warmińsko-mazurskie\",\n",
        "                    91:\"Zachodnio-pomorskie\",\n",
        "                    94:\"Zachodnio-pomorskie\",\n",
        "                    95:\"Lubuskie\", \n",
        "                    }\n",
        "\n",
        "    cyfra =         [\n",
        "                     \"zero\",\n",
        "                     \"jeden\",\n",
        "                     \"dwa\",\n",
        "                     \"trzy\",\n",
        "                     \"cztery\",\n",
        "                     \"pięć\",\n",
        "                     \"sześć\",\n",
        "                     \"siedem\",\n",
        "                     \"osiem\",\n",
        "                     \"dziewięć\"\n",
        "                     ]\n",
        "    \n",
        "    def __init__(self, numer):        #definicja\n",
        "        numer=numer.replace(\" \",\"\").replace(\"-\",\"\").replace(\"+\",\"\")\n",
        "        if not numer.isdigit() or len(numer) != 9:\n",
        "          raise ValueError(\"Niepoprawny numer telefonu\")\n",
        "          #print(\"numer niepoprawny\")\n",
        "        self.numer=numer\n",
        "        print(\"numer poprawny\")\n",
        "\n",
        "    @property                         #zamienia na wlasciwosc   \n",
        "    def wojewodztwo(self):\n",
        "        try:\n",
        "          print(self.kierunkowy[int(self.numer[0:2])]) \n",
        "        except:\n",
        "          print(\"komórkowy\")\n",
        "    \n",
        "    def __repr__(self):\n",
        "        numer_slownie = \"\"\n",
        "        for i in range(len(self.numer)):\n",
        "          numer_slownie = numer_slownie+self.cyfra[int(self.numer[i])]+\" \"\n",
        "        return numer_slownie \n",
        "\n",
        "numer_mazowieckie = NumerTelefonu(\"226666532\")\n",
        "\n",
        "print(numer_mazowieckie.numer)\n",
        "numer_mazowieckie.wojewodztwo\n",
        "print(numer_mazowieckie)\n",
        "print(\"-\"*60)\n",
        "        \n",
        "numer_kierunowy_lodz = NumerTelefonu(\"+44 887-75-02\")\n",
        "\n",
        "print(numer_kierunowy_lodz.numer)\n",
        "numer_kierunowy_lodz.wojewodztwo\n",
        "print(numer_kierunowy_lodz)\n",
        "print(\"-\"*60)\n",
        "\n",
        "numer_kom = NumerTelefonu(\"432188902\")\n",
        "\n",
        "print(numer_kom.numer)\n",
        "numer_kom.wojewodztwo\n",
        "print(numer_kom)\n",
        "print(\"-\"*60)\n",
        "\n",
        "zly_numer = NumerTelefonu(\"afasfasggsa\")\n"
      ],
      "execution_count": null,
      "outputs": [
        {
          "output_type": "stream",
          "text": [
            "numer poprawny\n",
            "226666532\n",
            "Mazowieckie\n",
            "dwa dwa sześć sześć sześć sześć pięć trzy dwa \n",
            "------------------------------------------------------------\n",
            "numer poprawny\n",
            "448877502\n",
            "Łódzkie\n",
            "cztery cztery osiem osiem siedem siedem pięć zero dwa \n",
            "------------------------------------------------------------\n",
            "numer poprawny\n",
            "432188902\n",
            "Łódzkie\n",
            "cztery trzy dwa jeden osiem osiem dziewięć zero dwa \n",
            "------------------------------------------------------------\n"
          ],
          "name": "stdout"
        },
        {
          "output_type": "error",
          "ename": "ValueError",
          "evalue": "ignored",
          "traceback": [
            "\u001b[0;31m---------------------------------------------------------------------------\u001b[0m",
            "\u001b[0;31mValueError\u001b[0m                                Traceback (most recent call last)",
            "\u001b[0;32m<ipython-input-23-02050d2f0b37>\u001b[0m in \u001b[0;36m<module>\u001b[0;34m()\u001b[0m\n\u001b[1;32m    109\u001b[0m \u001b[0mprint\u001b[0m\u001b[0;34m(\u001b[0m\u001b[0;34m\"-\"\u001b[0m\u001b[0;34m*\u001b[0m\u001b[0;36m60\u001b[0m\u001b[0;34m)\u001b[0m\u001b[0;34m\u001b[0m\u001b[0;34m\u001b[0m\u001b[0m\n\u001b[1;32m    110\u001b[0m \u001b[0;34m\u001b[0m\u001b[0m\n\u001b[0;32m--> 111\u001b[0;31m \u001b[0mzly_numer\u001b[0m \u001b[0;34m=\u001b[0m \u001b[0mNumerTelefonu\u001b[0m\u001b[0;34m(\u001b[0m\u001b[0;34m\"afasfasggsa\"\u001b[0m\u001b[0;34m)\u001b[0m\u001b[0;34m\u001b[0m\u001b[0;34m\u001b[0m\u001b[0m\n\u001b[0m",
            "\u001b[0;32m<ipython-input-23-02050d2f0b37>\u001b[0m in \u001b[0;36m__init__\u001b[0;34m(self, numer)\u001b[0m\n\u001b[1;32m     70\u001b[0m         \u001b[0mnumer\u001b[0m\u001b[0;34m=\u001b[0m\u001b[0mnumer\u001b[0m\u001b[0;34m.\u001b[0m\u001b[0mreplace\u001b[0m\u001b[0;34m(\u001b[0m\u001b[0;34m\" \"\u001b[0m\u001b[0;34m,\u001b[0m\u001b[0;34m\"\"\u001b[0m\u001b[0;34m)\u001b[0m\u001b[0;34m.\u001b[0m\u001b[0mreplace\u001b[0m\u001b[0;34m(\u001b[0m\u001b[0;34m\"-\"\u001b[0m\u001b[0;34m,\u001b[0m\u001b[0;34m\"\"\u001b[0m\u001b[0;34m)\u001b[0m\u001b[0;34m.\u001b[0m\u001b[0mreplace\u001b[0m\u001b[0;34m(\u001b[0m\u001b[0;34m\"+\"\u001b[0m\u001b[0;34m,\u001b[0m\u001b[0;34m\"\"\u001b[0m\u001b[0;34m)\u001b[0m\u001b[0;34m\u001b[0m\u001b[0;34m\u001b[0m\u001b[0m\n\u001b[1;32m     71\u001b[0m         \u001b[0;32mif\u001b[0m \u001b[0;32mnot\u001b[0m \u001b[0mnumer\u001b[0m\u001b[0;34m.\u001b[0m\u001b[0misdigit\u001b[0m\u001b[0;34m(\u001b[0m\u001b[0;34m)\u001b[0m \u001b[0;32mor\u001b[0m \u001b[0mlen\u001b[0m\u001b[0;34m(\u001b[0m\u001b[0mnumer\u001b[0m\u001b[0;34m)\u001b[0m \u001b[0;34m!=\u001b[0m \u001b[0;36m9\u001b[0m\u001b[0;34m:\u001b[0m\u001b[0;34m\u001b[0m\u001b[0;34m\u001b[0m\u001b[0m\n\u001b[0;32m---> 72\u001b[0;31m           \u001b[0;32mraise\u001b[0m \u001b[0mValueError\u001b[0m\u001b[0;34m(\u001b[0m\u001b[0;34m\"Niepoprawny numer telefonu\"\u001b[0m\u001b[0;34m)\u001b[0m\u001b[0;34m\u001b[0m\u001b[0;34m\u001b[0m\u001b[0m\n\u001b[0m\u001b[1;32m     73\u001b[0m           \u001b[0;31m#print(\"numer niepoprawny\")\u001b[0m\u001b[0;34m\u001b[0m\u001b[0;34m\u001b[0m\u001b[0;34m\u001b[0m\u001b[0m\n\u001b[1;32m     74\u001b[0m         \u001b[0mself\u001b[0m\u001b[0;34m.\u001b[0m\u001b[0mnumer\u001b[0m\u001b[0;34m=\u001b[0m\u001b[0mnumer\u001b[0m\u001b[0;34m\u001b[0m\u001b[0;34m\u001b[0m\u001b[0m\n",
            "\u001b[0;31mValueError\u001b[0m: Niepoprawny numer telefonu"
          ]
        }
      ]
    },
    {
      "cell_type": "code",
      "metadata": {
        "id": "OBCwye1AmpEw"
      },
      "source": [
        "# ma na takie rzeczy być w stanie odpowiedzieć\n",
        "\n",
        "numer_lodz = NumerTelefonu(\"426877868\")\n",
        ">>> \"prawidlowy numer\"\n",
        "\n",
        "numer_lodz.wojewodztwo \n",
        ">>> \"Lodz\"\n",
        "\n",
        "print(numer_lodz)\n",
        ">>> \"cztery dwa sześć osiem siedem siedem osiem sześć osiem\""
      ],
      "execution_count": null,
      "outputs": []
    }
  ]
}