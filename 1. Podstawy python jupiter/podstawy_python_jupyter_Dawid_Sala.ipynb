{
  "nbformat": 4,
  "nbformat_minor": 0,
  "metadata": {
    "kernelspec": {
      "display_name": "Python 3",
      "language": "python",
      "name": "python3"
    },
    "language_info": {
      "codemirror_mode": {
        "name": "ipython",
        "version": 3
      },
      "file_extension": ".py",
      "mimetype": "text/x-python",
      "name": "python",
      "nbconvert_exporter": "python",
      "pygments_lexer": "ipython3",
      "version": "3.7.3"
    },
    "colab": {
      "name": "podstawy_python_jupyter_Dawid_Sala.ipynb",
      "provenance": [],
      "collapsed_sections": []
    }
  },
  "cells": [
    {
      "cell_type": "markdown",
      "metadata": {
        "id": "URBtthnV7lVW"
      },
      "source": [
        "# **Pierwsze zajęcia MISSP**"
      ]
    },
    {
      "cell_type": "code",
      "metadata": {
        "id": "1jsUGyL0ybdS"
      },
      "source": [
        "# komentarz\n",
        "\n",
        "# if\n",
        "\n",
        "wielkosc = 5\n",
        "\n",
        "print(wielkosc)"
      ],
      "execution_count": null,
      "outputs": []
    },
    {
      "cell_type": "code",
      "metadata": {
        "id": "xXzE3jS3ybdc"
      },
      "source": [
        "if wielkosc >6:\n",
        "    print(\"ale duze\")\n",
        "elif wielkosc < 3:\n",
        "    print(\"malutkie\")\n",
        "    print('franek')\n",
        "else:\n",
        "    print(\"w sam raz\")"
      ],
      "execution_count": null,
      "outputs": []
    },
    {
      "cell_type": "code",
      "metadata": {
        "id": "f90Hq0Xbybdi"
      },
      "source": [
        "studenci = [\"Ania\", \"Zosia\", \"Kasia\", \"Franek\"]\n",
        "\n",
        "print(studenci)"
      ],
      "execution_count": null,
      "outputs": []
    },
    {
      "cell_type": "code",
      "metadata": {
        "id": "oFTBZCyyybdp"
      },
      "source": [
        "studenci[0][1]"
      ],
      "execution_count": null,
      "outputs": []
    },
    {
      "cell_type": "code",
      "metadata": {
        "scrolled": true,
        "id": "ipcSx0JWybdv"
      },
      "source": [
        "for student in studenci:\n",
        "    print(\"student ma na imie:\", student)\n",
        "    \n",
        "for student in studenci:\n",
        "    print(student)\n",
        "    if student[0]==\"A\":\n",
        "        print(\"student na poczatku alfabetu\")"
      ],
      "execution_count": null,
      "outputs": []
    },
    {
      "cell_type": "code",
      "metadata": {
        "id": "k0NmJ9fYybd2"
      },
      "source": [
        "for numer, student in enumerate(studenci):\n",
        "    print(\"student {} ma numer {}\".format(student,numer))"
      ],
      "execution_count": null,
      "outputs": []
    },
    {
      "cell_type": "code",
      "metadata": {
        "id": "QOQTzQ8qybd8"
      },
      "source": [
        "oceny = [2,2,5,3]\n",
        "\n",
        "for numer, student in enumerate(studenci):\n",
        "    print(\"student {} ma numer {} i ocenę {}\".format(student,numer,oceny[numer]))\n",
        "\n",
        "print(\"--\"*20)    \n",
        "for number, (student, ocena) in enumerate(zip(studenci,oceny)):\n",
        "    print(\"student {} ma numer {} i ocenę {}\".format(student,number,ocena))"
      ],
      "execution_count": null,
      "outputs": []
    },
    {
      "cell_type": "code",
      "metadata": {
        "id": "aC_lvXzgybeA"
      },
      "source": [
        "trzy_elementy= [1,2,3]\n",
        "pierwszy,drugi,trzeci= trzy_elementy"
      ],
      "execution_count": null,
      "outputs": []
    },
    {
      "cell_type": "code",
      "metadata": {
        "id": "bhEBcc4BybeE"
      },
      "source": [
        "n = 1\n",
        "\n",
        "while(n < 10):\n",
        "    print(n)\n",
        "    n+=1"
      ],
      "execution_count": null,
      "outputs": []
    },
    {
      "cell_type": "code",
      "metadata": {
        "id": "QDUSN4GaybeI"
      },
      "source": [
        "def dodaj_dwa(liczba):\n",
        "    return liczba+2\n",
        "\n",
        "def dodaj_trzy(liczba):\n",
        "    return liczba+3\n",
        "\n",
        "def dodaj_dwie_liczby(liczba1,liczba2)\n",
        "    return liczba1+liczba2\n",
        "\n",
        "\n",
        "dodaj_cztery = lambda liczba:liczba+4"
      ],
      "execution_count": null,
      "outputs": []
    },
    {
      "cell_type": "code",
      "metadata": {
        "id": "T6gWf3lkybeL"
      },
      "source": [
        "funkcje=[dodaj_dwa,dodaj_trzy,dodaj_cztery]\n",
        "\n",
        "jakis_nr= 10\n",
        "\n",
        "for funkcja in funkcje:\n",
        "    print(funkcja(jakis_nr))"
      ],
      "execution_count": null,
      "outputs": []
    },
    {
      "cell_type": "code",
      "metadata": {
        "id": "Yjmf7v-zybeO"
      },
      "source": [
        "studenci[0]\n",
        "studenci[1:]\n",
        "studenci[:-1]"
      ],
      "execution_count": null,
      "outputs": []
    },
    {
      "cell_type": "markdown",
      "metadata": {
        "id": "-WBNdkDZ3CFf"
      },
      "source": [
        "## **Challenge 0.1**"
      ]
    },
    {
      "cell_type": "code",
      "metadata": {
        "id": "esCq3jcfybeS",
        "colab": {
          "base_uri": "https://localhost:8080/",
          "height": 306
        },
        "outputId": "c988c105-8cc4-43ce-ecff-704304f337d1"
      },
      "source": [
        "zajecia = [\"wf\",\"informatyka\",\"relax\",\"mispy\",\"piateczek\"]\n",
        "\n",
        "dnityg= [\"Pon\",\"Wto\",\"Sro\",\"Czwar\",\"Pio\"]\n",
        "\n",
        "# wyprintuj zajecia od srody do piatku\n",
        "print(\"--\"*10)\n",
        "print( \"challeenge 0.1\" )\n",
        "print(\"--\"*10)\n",
        "print(\"\\n\")\n",
        "\n",
        "for n, a in enumerate(zajecia):\n",
        "  if n >1:\n",
        "    print(a)\n",
        "\n",
        "print(\"\\n\")\n",
        "print(\"--\"*30)\n",
        "print(\"\\n\")\n",
        "\n",
        "# wyprintuj oprocz srody\n",
        "for i, tyg in enumerate(dnityg):\n",
        "  if i!=2:\n",
        "    print(tyg)"
      ],
      "execution_count": null,
      "outputs": [
        {
          "output_type": "stream",
          "text": [
            "--------------------\n",
            "challeenge 0.1\n",
            "--------------------\n",
            "\n",
            "\n",
            "relax\n",
            "mispy\n",
            "piateczek\n",
            "\n",
            "\n",
            "------------------------------------------------------------\n",
            "\n",
            "\n",
            "Pon\n",
            "Wto\n",
            "Czwar\n",
            "Pio\n"
          ],
          "name": "stdout"
        }
      ]
    },
    {
      "cell_type": "markdown",
      "metadata": {
        "id": "YiWXH_la3U8u"
      },
      "source": [
        "## **Challenge 0.2 oraz  Challenge 0.3**"
      ]
    },
    {
      "cell_type": "code",
      "metadata": {
        "id": "wn10ksQJybeV",
        "colab": {
          "base_uri": "https://localhost:8080/",
          "height": 357
        },
        "outputId": "a318452b-d2dc-4ec1-f83b-8adb849a3e02"
      },
      "source": [
        "zajecia = [[\"wf\"],\n",
        "           [\"informatyka\", \"nauka czytania\"],\n",
        "           [\"relax\", \"jedzenie\"],\n",
        "           [\"mispy\",\"mispy w domu\"],\n",
        "           [\"piateczek\", \"praca domowa z mispow\", \"Ilovemispy\", \"mispy w czasie snu\"]\n",
        "          ]\n",
        "\n",
        "dnityg= [\"Pon\",\"Wto\",\"Sro\",\"Czwar\",\"Pio\"]\n",
        "\n",
        "# zdefiniuj funkcje ktora poda ile jest zajec danego dnia\n",
        "# lista_zajec_z_dnia -> ile ich jest\n",
        "\n",
        "#### challenge 0.2\n",
        "\n",
        "print(\"--\"*10)\n",
        "print( \"challeenge 0.2\" )\n",
        "print(\"--\"*10)\n",
        "print(\"\\n\")\n",
        "\n",
        "def lista_zajec(lista,dni):\n",
        "    a=[]\n",
        "    for i in range(len(lista)):\n",
        "        a.append([dni[i],len(zajecia[i])])\n",
        "    return a\n",
        "\n",
        "dnizajecia=lista_zajec(zajecia,dnityg)\n",
        "print(dnizajecia)\n",
        "\n",
        "# po\n",
        "# posortuj dni po najbardziej zajetych\n",
        "print(\"\\n\")\n",
        "print(\"--\"*30)\n",
        "print(\"\\n\")\n",
        "print(sorted(dnizajecia,key=lambda dnizajeciakey: dnizajeciakey[1], reverse=True))\n",
        "\n",
        "#### challenge 0.3\n",
        "\n",
        "print(\"\\n\")\n",
        "print(\"--\"*10)\n",
        "print( \"challeenge 0.3\" )\n",
        "print(\"--\"*10)\n",
        "print(\"\\n\")\n",
        "\n",
        "# napisz program ktory zdajdzie dzien z najwieksza iloscia mispow\n",
        "\n",
        "for i in range(len(dnityg)):\n",
        "    for j in zajecia[i]:\n",
        "        if \"misp\" not in j:\n",
        "          dnizajecia[i][1]-=1\n",
        "\n",
        "dnizajecia=sorted(dnizajecia,key=lambda dnizajeciakey: dnizajeciakey[1], reverse=True)\n",
        "print(\"Dniem w ktorym jest najwiecej mispow (czyli {ilosc}) jest {dzien}\".format(dzien=dnizajecia[0][0],ilosc=dnizajecia[0][1]))\n"
      ],
      "execution_count": null,
      "outputs": [
        {
          "output_type": "stream",
          "text": [
            "--------------------\n",
            "challeenge 0.2\n",
            "--------------------\n",
            "\n",
            "\n",
            "[['Pon', 1], ['Wto', 2], ['Sro', 2], ['Czwar', 2], ['Pio', 4]]\n",
            "\n",
            "\n",
            "------------------------------------------------------------\n",
            "\n",
            "\n",
            "[['Pio', 4], ['Wto', 2], ['Sro', 2], ['Czwar', 2], ['Pon', 1]]\n",
            "\n",
            "\n",
            "--------------------\n",
            "challeenge 0.3\n",
            "--------------------\n",
            "\n",
            "\n",
            "Dniem w ktorym jest najwiecej mispow (czyli 3) jest Pio\n"
          ],
          "name": "stdout"
        }
      ]
    },
    {
      "cell_type": "code",
      "metadata": {
        "id": "9x5pbE0tybeZ",
        "outputId": "25ed36f4-2516-4765-fd45-a743480d929e"
      },
      "source": [
        "len(zajecia)\n",
        "\n",
        "zajecia[4][1]\n",
        "\n",
        "\"Ma\" in \"MojaMaMa\"\n",
        "\n",
        "liczby=[\"22\",\"11\",\"33\",\"100\"]\n",
        "liczby_i_nazwy= [(\"22\",\"dwadziescia dwa\"),\n",
        "                 (\"11\",\"jedenascie\"),\n",
        "        (\"33\",\"trzydziesci trzy\"),(\"100\",\"sto\")]\n",
        "sorted(liczby)\n",
        "\n",
        "sorted(liczby, key=int)\n",
        "\n",
        "liczby_kolejnosc= enumerate(liczby)\n",
        "\n",
        "def czy_jest_jeden(liczba):\n",
        "\n",
        "    if \"1\" in liczba:\n",
        "        return 1\n",
        "    else:\n",
        "        return 0\n",
        "def na_liczbe(krotka):\n",
        "         return int(krotka[0])\n",
        "def na_liczbe_index(krotka):\n",
        "         return int(krotka[1])    \n",
        "sorted(liczby, key=czy_jest_jeden)\n",
        "         \n",
        "sorted(liczby_i_nazwy,key=na_liczbe)\n",
        "\n",
        "sorted(liczby_kolejnosc,key=na_liczbe_index)"
      ],
      "execution_count": null,
      "outputs": [
        {
          "output_type": "execute_result",
          "data": {
            "text/plain": [
              "[(1, '11'), (0, '22'), (2, '33'), (3, '100')]"
            ]
          },
          "metadata": {
            "tags": []
          },
          "execution_count": 51
        }
      ]
    },
    {
      "cell_type": "code",
      "metadata": {
        "id": "cZebfaGHybeb",
        "outputId": "ee8af7b3-99a7-4c09-b6b2-4dccc27ccbf1"
      },
      "source": [
        "sorted(liczby_kolejnosc,key=)"
      ],
      "execution_count": null,
      "outputs": [
        {
          "output_type": "execute_result",
          "data": {
            "text/plain": [
              "<enumerate at 0x7f5efea012d0>"
            ]
          },
          "metadata": {
            "tags": []
          },
          "execution_count": 48
        }
      ]
    },
    {
      "cell_type": "code",
      "metadata": {
        "id": "fnRvG5g_ybee"
      },
      "source": [
        ""
      ],
      "execution_count": null,
      "outputs": []
    }
  ]
}